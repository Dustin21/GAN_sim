{
 "cells": [
  {
   "cell_type": "code",
   "execution_count": 88,
   "metadata": {
    "collapsed": false
   },
   "outputs": [
    {
     "name": "stdout",
     "output_type": "stream",
     "text": [
      "Iter-0; D_loss: [ 1.25996113]; G_loss: [ 0.76480675]\n",
      "Iter-1000; D_loss: [ 0.26862523]; G_loss: [ 2.23664498]\n",
      "Iter-2000; D_loss: [ 0.90197122]; G_loss: [ 1.82319474]\n",
      "Iter-3000; D_loss: [ 1.09971094]; G_loss: [ 1.38281369]\n",
      "Iter-4000; D_loss: [ 1.06690836]; G_loss: [ 1.12580168]\n",
      "Iter-5000; D_loss: [ 0.8757453]; G_loss: [ 1.15345275]\n",
      "Iter-6000; D_loss: [ 0.97846699]; G_loss: [ 1.20913684]\n",
      "Iter-7000; D_loss: [ 0.85926521]; G_loss: [ 1.08929384]\n",
      "Iter-8000; D_loss: [ 0.96689844]; G_loss: [ 1.1349901]\n",
      "Iter-9000; D_loss: [ 1.04210639]; G_loss: [ 1.0770824]\n",
      "Iter-10000; D_loss: [ 0.99880898]; G_loss: [ 1.20427799]\n",
      "Iter-11000; D_loss: [ 1.21922374]; G_loss: [ 0.94828051]\n",
      "Iter-12000; D_loss: [ 0.96883869]; G_loss: [ 1.05266798]\n",
      "Iter-13000; D_loss: [ 1.1988678]; G_loss: [ 0.9684608]\n",
      "Iter-14000; D_loss: [ 1.11737621]; G_loss: [ 1.00174999]\n",
      "Iter-15000; D_loss: [ 1.19435942]; G_loss: [ 0.97493333]\n",
      "Iter-16000; D_loss: [ 1.09563613]; G_loss: [ 1.06821716]\n",
      "Iter-17000; D_loss: [ 1.11036515]; G_loss: [ 0.89881843]\n",
      "Iter-18000; D_loss: [ 1.15996432]; G_loss: [ 0.95669729]\n",
      "Iter-19000; D_loss: [ 1.19211102]; G_loss: [ 1.07054126]\n"
     ]
    },
    {
     "data": {
      "text/plain": [
       "\"\\n        fig = plt.figure(figsize=(4, 4))\\n        gs = gridspec.GridSpec(4, 4)\\n        gs.update(wspace=0.05, hspace=0.05)\\n\\n        for i, sample in enumerate(samples):\\n            ax = plt.subplot(gs[i])\\n            plt.axis('off')\\n            ax.set_xticklabels([])\\n            ax.set_yticklabels([])\\n            ax.set_aspect('equal')\\n            plt.scatter(samples[int(it/1000),:,1], samples[int(it/1000),:,2])\\n\\n        if not os.path.exists('out/'):\\n            os.makedirs('out/')\\n\\n        plt.savefig('out/{}.png'.format(str(cnt).zfill(3)), bbox_inches='tight')\\n        cnt += 1\\n        plt.close(fig)\\n\""
      ]
     },
     "execution_count": 88,
     "metadata": {},
     "output_type": "execute_result"
    }
   ],
   "source": [
    "#GAN CODE: DONT RUN THIS FIRST. SEE BELOW\n",
    "\n",
    "import torch\n",
    "import torch.nn\n",
    "import torch.nn.functional as nn\n",
    "import torch.autograd as autograd\n",
    "import torch.optim as optim\n",
    "import numpy as np\n",
    "import matplotlib.pyplot as plt\n",
    "import matplotlib.gridspec as gridspec\n",
    "import os\n",
    "from torch.autograd import Variable\n",
    "#from tensorflow.examples.tutorials.mnist import input_data\n",
    "\n",
    "model = \"vgan\"\n",
    "#mnist = input_data.read_data_sets('../../MNIST_data', one_hot=True)\n",
    "\n",
    "mb_size = 50\n",
    "z_dim = 4\n",
    "X_dim = np.shape(sim_out)[1]#mnist.train.images.shape[1]\n",
    "#y_dim = #mnist.train.labels.shape[1]\n",
    "h_dim = 100\n",
    "cnt = 0\n",
    "lr = 1e-4\n",
    "k = 3\n",
    "n_iters = 20000\n",
    "p_int = 10\n",
    "sample_size = 200\n",
    "\n",
    "if (model == \"vgan\"):\n",
    "    ones_label = Variable(torch.ones(mb_size))\n",
    "    zeros_label = Variable(torch.zeros(mb_size))\n",
    "    \n",
    "\n",
    "samples = np.empty((int(n_iters/p_int)+1,sample_size,X_dim))\n",
    "\n",
    "G = torch.nn.Sequential(\n",
    "    torch.nn.Linear(z_dim, h_dim),\n",
    "    torch.nn.ReLU(),\n",
    "    torch.nn.Linear(h_dim, X_dim)\n",
    ")\n",
    "\n",
    "if(model==\"vgan\"):\n",
    "    D = torch.nn.Sequential(\n",
    "        torch.nn.Linear(X_dim, h_dim),\n",
    "        torch.nn.ReLU(),\n",
    "        torch.nn.Linear(h_dim,1),\n",
    "        torch.nn.Sigmoid()\n",
    "    )\n",
    "\n",
    "\n",
    "\n",
    "if(model==\"wgan\"):\n",
    "    D = torch.nn.Sequential(\n",
    "        torch.nn.Linear(X_dim, h_dim),\n",
    "        torch.nn.ReLU(),\n",
    "        torch.nn.Linear(h_dim, 1),\n",
    "    )\n",
    "\n",
    "\n",
    "def reset_grad():\n",
    "    G.zero_grad()\n",
    "    D.zero_grad()\n",
    "\n",
    "\n",
    "G_solver = optim.RMSprop(G.parameters(), lr=lr)\n",
    "D_solver = optim.RMSprop(D.parameters(), lr=lr)\n",
    "\n",
    "\n",
    "for it in range(n_iters):\n",
    "    for _ in range(k):\n",
    "        # Sample data\n",
    "        z = Variable(torch.randn(mb_size, z_dim))\n",
    "        X =  multivariateGaussianMixture(pi, centroids, covmat, n_samples = mb_size)\n",
    "        X = Variable(torch.Tensor(X))\n",
    "\n",
    "        # Dicriminator forward-loss-backward-update\n",
    "        G_sample = G(z)\n",
    "        D_real = D(X)\n",
    "        D_fake = D(G_sample)\n",
    "        \n",
    "        if (model == \"wgan\"):\n",
    "            D_loss = -(torch.mean(D_real) - torch.mean(D_fake))\n",
    "\n",
    "        if(model == \"vgan\"):\n",
    "            D_loss_real = nn.binary_cross_entropy(D_real, ones_label)\n",
    "            D_loss_fake = nn.binary_cross_entropy(D_fake, zeros_label)\n",
    "            D_loss = D_loss_real + D_loss_fake\n",
    "            \n",
    "        D_loss.backward()\n",
    "        D_solver.step()\n",
    "\n",
    "        # Weight clipping\n",
    "        if(model==\"wgan\"):\n",
    "            for p in D.parameters():\n",
    "                p.data.clamp_(-0.05, 0.05)\n",
    "\n",
    "        # Housekeeping - reset gradient\n",
    "        reset_grad()\n",
    "\n",
    "    # Generator forward-loss-backward-update\n",
    "    \n",
    "    z = Variable(torch.randn(mb_size, z_dim))\n",
    "\n",
    "    G_sample = G(z)\n",
    "    D_fake = D(G_sample)\n",
    "    \n",
    "    if(model == \"vgan\"):\n",
    "        G_loss = nn.binary_cross_entropy(D_fake, ones_label)\n",
    "    \n",
    "    if(model == \"wgan\"):\n",
    "        G_loss = -torch.mean(D_fake)\n",
    "\n",
    "    G_loss.backward()\n",
    "    G_solver.step()\n",
    "\n",
    "    # Housekeeping - reset gradient\n",
    "    reset_grad()\n",
    "\n",
    "    # Print and plot every now and then\n",
    "    if it % p_int == 0:\n",
    "        if it % (100*p_int) == 0:\n",
    "            print('Iter-{}; D_loss: {}; G_loss: {}'\n",
    "                  .format(it, D_loss.data.numpy(), G_loss.data.numpy()))\n",
    "\n",
    "        samples[int(it/p_int),:,:] = G(Variable(torch.randn(sample_size, z_dim))).data.numpy()\n",
    "'''\n",
    "        fig = plt.figure(figsize=(4, 4))\n",
    "        gs = gridspec.GridSpec(4, 4)\n",
    "        gs.update(wspace=0.05, hspace=0.05)\n",
    "\n",
    "        for i, sample in enumerate(samples):\n",
    "            ax = plt.subplot(gs[i])\n",
    "            plt.axis('off')\n",
    "            ax.set_xticklabels([])\n",
    "            ax.set_yticklabels([])\n",
    "            ax.set_aspect('equal')\n",
    "            plt.scatter(samples[int(it/1000),:,1], samples[int(it/1000),:,2])\n",
    "\n",
    "        if not os.path.exists('out/'):\n",
    "            os.makedirs('out/')\n",
    "\n",
    "        plt.savefig('out/{}.png'.format(str(cnt).zfill(3)), bbox_inches='tight')\n",
    "        cnt += 1\n",
    "        plt.close(fig)\n",
    "'''"
   ]
  },
  {
   "cell_type": "code",
   "execution_count": 1,
   "metadata": {
    "collapsed": false
   },
   "outputs": [
    {
     "ename": "NameError",
     "evalue": "name 'np' is not defined",
     "output_type": "error",
     "traceback": [
      "\u001b[0;31m---------------------------------------------------------------------------\u001b[0m",
      "\u001b[0;31mNameError\u001b[0m                                 Traceback (most recent call last)",
      "\u001b[0;32m<ipython-input-1-c53b02998fac>\u001b[0m in \u001b[0;36m<module>\u001b[0;34m()\u001b[0m\n\u001b[1;32m      1\u001b[0m \u001b[0;31m#experiment 2\u001b[0m\u001b[0;34m\u001b[0m\u001b[0;34m\u001b[0m\u001b[0m\n\u001b[0;32m----> 2\u001b[0;31m \u001b[0mn\u001b[0m\u001b[0;34m,\u001b[0m\u001b[0mns\u001b[0m\u001b[0;34m,\u001b[0m \u001b[0md\u001b[0m \u001b[0;34m=\u001b[0m \u001b[0mnp\u001b[0m\u001b[0;34m.\u001b[0m\u001b[0mshape\u001b[0m\u001b[0;34m(\u001b[0m\u001b[0msamples\u001b[0m\u001b[0;34m)\u001b[0m\u001b[0;34m\u001b[0m\u001b[0m\n\u001b[0m\u001b[1;32m      3\u001b[0m \u001b[0ml2_wgan\u001b[0m \u001b[0;34m=\u001b[0m \u001b[0mnp\u001b[0m\u001b[0;34m.\u001b[0m\u001b[0mempty\u001b[0m\u001b[0;34m(\u001b[0m\u001b[0;34m(\u001b[0m\u001b[0mn\u001b[0m\u001b[0;34m-\u001b[0m\u001b[0;36m2\u001b[0m\u001b[0;34m)\u001b[0m\u001b[0;34m)\u001b[0m\u001b[0;34m\u001b[0m\u001b[0m\n\u001b[1;32m      4\u001b[0m \u001b[0;34m\u001b[0m\u001b[0m\n\u001b[1;32m      5\u001b[0m \u001b[0;32mfor\u001b[0m \u001b[0mi\u001b[0m \u001b[0;32min\u001b[0m \u001b[0mrange\u001b[0m\u001b[0;34m(\u001b[0m\u001b[0mn\u001b[0m\u001b[0;34m-\u001b[0m\u001b[0;36m2\u001b[0m\u001b[0;34m)\u001b[0m\u001b[0;34m:\u001b[0m\u001b[0;34m\u001b[0m\u001b[0m\n",
      "\u001b[0;31mNameError\u001b[0m: name 'np' is not defined"
     ]
    }
   ],
   "source": [
    "#THIS CALCULATES l2 distnace of samples from distribution mean(first moment)\n",
    "\n",
    "n,ns, d = np.shape(samples)\n",
    "l2_wgan = np.empty((n-2))\n",
    "\n",
    "for i in range(n-2):\n",
    "    avg = samples[i,:,:].mean(0)\n",
    "    l2_wgan[i] = np.linalg.norm(avg - gmean,2)\n"
   ]
  },
  {
   "cell_type": "code",
   "execution_count": 90,
   "metadata": {
    "collapsed": false
   },
   "outputs": [
    {
     "data": {
      "text/plain": [
       "[<matplotlib.lines.Line2D at 0x7f001c2f0da0>]"
      ]
     },
     "execution_count": 90,
     "metadata": {},
     "output_type": "execute_result"
    },
    {
     "data": {
      "image/png": "[encoded data removed]",
      "text/plain": [
       "<matplotlib.figure.Figure at 0x7f001c2f0668>"
      ]
     },
     "metadata": {},
     "output_type": "display_data"
    }
   ],
   "source": [
    "plt.xlabel('iterations x 10')\n",
    "plt.ylabel('l2-distance from true mean')\n",
    "plt.title('Sample mean l2 distance from true mean, WGAN')\n",
    "plt.plot(range(n-2),l2_wgan)\n",
    "\n",
    "\n"
   ]
  },
  {
   "cell_type": "code",
   "execution_count": 16,
   "metadata": {
    "collapsed": false
   },
   "outputs": [
    {
     "data": {
      "text/plain": [
       "<matplotlib.collections.PathCollection at 0x7f002067e0f0>"
      ]
     },
     "execution_count": 16,
     "metadata": {},
     "output_type": "execute_result"
    },
    {
     "data": {
      "image/png": "[encoded data removed]",
      "text/plain": [
       "<matplotlib.figure.Figure at 0x7f0020b97d30>"
      ]
     },
     "metadata": {},
     "output_type": "display_data"
    }
   ],
   "source": [
    "#DO THIS FIRST: MAKE SURE multivariateGaussianMixture contains the distributio u want to work with\n",
    "\n",
    "import numpy as np\n",
    "import matplotlib\n",
    "import numpy as np\n",
    "import matplotlib.pyplot as plt\n",
    "%matplotlib inline \n",
    "\n",
    "def pair(data, labels=None):\n",
    "    nVariables = data.shape[1]\n",
    "    if labels is None:\n",
    "        labels = ['var%d'%i for i in range(nVariables)]\n",
    "    fig = plt.figure()\n",
    "    for i in range(nVariables):\n",
    "        for j in range(nVariables):\n",
    "            nSub = i * nVariables + j + 1\n",
    "            ax = fig.add_subplot(nVariables, nVariables, nSub)\n",
    "            if i == j:\n",
    "                ax.hist(data[:,i])\n",
    "                ax.set_title(labels[i])\n",
    "            else:\n",
    "                ax.plot(data[:,i], data[:,j], '.k')\n",
    "    return fig\n",
    "\n",
    "def multivariateGaussianMixture(pis, centroids, covmat, n_samples):\n",
    "    K = len(pis)\n",
    "    D = centroids.shape[1]\n",
    "    N = n_samples\n",
    "    x_out = np.zeros([N,D])\n",
    "    mix = np.zeros([1,D])\n",
    "\n",
    "    pi_cum = np.cumsum(pis)\n",
    "\n",
    "    for n in range(N):\n",
    "        u = np.random.uniform()\n",
    "        for k in range(K):\n",
    "            if u < pi_cum[0]:\n",
    "                x_out[n, :] = np.random.multivariate_normal(centroids[0], np.diag(covmat[0]))\n",
    "            elif u < pi_cum[1]:\n",
    "                x_out[n, :] = np.random.multivariate_normal(centroids[1], np.diag(covmat[1]))\n",
    "            elif u < pi_cum[2]:\n",
    "                x_out[n, :] = np.random.multivariate_normal(centroids[2], np.diag(covmat[2]))\n",
    "            elif u < pi_cum[3]:\n",
    "                x_out[n, :] = np.random.multivariate_normal(centroids[3], np.diag(covmat[3]))\n",
    "            elif u < pi_cum[4]:\n",
    "                x_out[n, :] = np.random.multivariate_normal(centroids[4], np.diag(covmat[4]))\n",
    "            elif u < pi_cum[5]:\n",
    "                x_out[n, :] = np.random.multivariate_normal(centroids[5], np.diag(covmat[5]))\n",
    "            else:\n",
    "                x_out[n, :] = np.random.multivariate_normal(centroids[6], np.diag(covmat[6]))\n",
    "    return x_out\n",
    "\n",
    "pi = np.array([12, 24, 32, 10, 15, 29, 16])\n",
    "pi = pi/pi.sum()\n",
    "\n",
    "centroids = np.array([[0, 0, 0, 0, 0],\n",
    "                     [-10, 5, 9, 0, 0],\n",
    "                     [-5, -1, 3, 4, 2],\n",
    "                     [4, 3, 4, 2, 1],\n",
    "                     [6, 5, 6, 2, -4],\n",
    "                     [2, 2, 9, 5, 6],\n",
    "                     [4, -1, 4, 0, 20]])\n",
    "\n",
    "covmat = np.tile([3, 4, 5, 20, 1], (7,1))\n",
    "\n",
    "sim_out = multivariateGaussianMixture(pi, centroids, covmat, n_samples = 10000)\n",
    "avvg = centroids.sum\n",
    "\n",
    "pair(sim_out)\n",
    "plt.scatter(sim_out[:,1], sim_out[:,2])"
   ]
  },
  {
   "cell_type": "code",
   "execution_count": 56,
   "metadata": {
    "collapsed": false
   },
   "outputs": [],
   "source": [
    "nclusters = np.shape(centroids)[0]\n",
    "gmean = np.zeros((np.shape(centroids)[1]))\n",
    "for i in range(nclusters):\n",
    "    gmean = gmean +  pi[int(i)]*centroids[int(i),:]\n",
    "\n"
   ]
  },
  {
   "cell_type": "code",
   "execution_count": 57,
   "metadata": {
    "collapsed": false
   },
   "outputs": [
    {
     "data": {
      "text/plain": [
       "array([-1.07246377,  1.70289855,  5.55797101,  2.34057971,  3.68115942])"
      ]
     },
     "execution_count": 57,
     "metadata": {},
     "output_type": "execute_result"
    }
   ],
   "source": [
    "gmean"
   ]
  },
  {
   "cell_type": "code",
   "execution_count": 91,
   "metadata": {
    "collapsed": false
   },
   "outputs": [],
   "source": [
    "np.save(file=\"exp2_gan.npy\", arr=samples)"
   ]
  }
 ],
 "metadata": {
  "kernelspec": {
   "display_name": "Python 3",
   "language": "python",
   "name": "python3"
  },
  "language_info": {
   "codemirror_mode": {
    "name": "ipython",
    "version": 3
   },
   "file_extension": ".py",
   "mimetype": "text/x-python",
   "name": "python",
   "nbconvert_exporter": "python",
   "pygments_lexer": "ipython3",
   "version": "3.5.2"
  }
 },
 "nbformat": 4,
 "nbformat_minor": 2
}
